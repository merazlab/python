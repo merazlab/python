{
 "cells": [
  {
   "cell_type": "markdown",
   "metadata": {
    "colab_type": "text",
    "id": "20zzE1qqeDjU"
   },
   "source": [
    "# Module-02\n",
    "1. python Introduction\n",
    "2. Two\n",
    "3. Three\n",
    "\n"
   ]
  },
  {
   "cell_type": "markdown",
   "metadata": {
    "colab_type": "text",
    "id": "z4FB0GuvjN90"
   },
   "source": [
    "How to checks python version"
   ]
  },
  {
   "cell_type": "code",
   "execution_count": 1,
   "metadata": {
    "colab": {
     "base_uri": "https://localhost:8080/",
     "height": 34
    },
    "colab_type": "code",
    "executionInfo": {
     "elapsed": 3901,
     "status": "ok",
     "timestamp": 1584298668917,
     "user": {
      "displayName": "Md Meraz",
      "photoUrl": "https://lh3.googleusercontent.com/a-/AOh14GiCDqeiThy6Uz7npH4ERYGnqSgnpBR6l78yLv1B=s64",
      "userId": "16501587712343191977"
     },
     "user_tz": 420
    },
    "id": "CuYwLUT3bP0I",
    "outputId": "19a92f5a-581d-4645-8c78-b7eb2d41bddf"
   },
   "outputs": [
    {
     "name": "stdout",
     "output_type": "stream",
     "text": [
      "Python 3.9.15\n"
     ]
    }
   ],
   "source": [
    "!python -V"
   ]
  },
  {
   "cell_type": "markdown",
   "metadata": {
    "colab_type": "text",
    "id": "vxK35D8IkL7C"
   },
   "source": [
    "Check which python you atre using write now"
   ]
  },
  {
   "cell_type": "code",
   "execution_count": 2,
   "metadata": {
    "colab": {
     "base_uri": "https://localhost:8080/",
     "height": 34
    },
    "colab_type": "code",
    "executionInfo": {
     "elapsed": 3635,
     "status": "ok",
     "timestamp": 1584298821444,
     "user": {
      "displayName": "Md Meraz",
      "photoUrl": "https://lh3.googleusercontent.com/a-/AOh14GiCDqeiThy6Uz7npH4ERYGnqSgnpBR6l78yLv1B=s64",
      "userId": "16501587712343191977"
     },
     "user_tz": 420
    },
    "id": "HrUHT-Gqjn9C",
    "outputId": "cfd47f61-689b-4c82-f1c4-b269053a903e"
   },
   "outputs": [
    {
     "name": "stdout",
     "output_type": "stream",
     "text": [
      "/Users/meraz/miniconda3/envs/py39/bin/python\n"
     ]
    }
   ],
   "source": [
    "!which python"
   ]
  },
  {
   "cell_type": "markdown",
   "metadata": {
    "colab_type": "text",
    "id": "AGGtkp_aklOq"
   },
   "source": [
    "## Write first python program\n",
    "\n",
    "1.   Open a new File\n",
    "2.   Write a program\n",
    "3.   save as a .py extension\n",
    "4.   Before running a program check current working directory of file is same as program file directory.\n",
    "5.   python3 filename.py\n"
   ]
  },
  {
   "cell_type": "code",
   "execution_count": 3,
   "metadata": {
    "colab": {
     "base_uri": "https://localhost:8080/",
     "height": 34
    },
    "colab_type": "code",
    "executionInfo": {
     "elapsed": 3745,
     "status": "ok",
     "timestamp": 1584299573720,
     "user": {
      "displayName": "Md Meraz",
      "photoUrl": "https://lh3.googleusercontent.com/a-/AOh14GiCDqeiThy6Uz7npH4ERYGnqSgnpBR6l78yLv1B=s64",
      "userId": "16501587712343191977"
     },
     "user_tz": 420
    },
    "id": "AfXJ8hZKj2Xy",
    "outputId": "9f399041-7098-458a-d38a-9a29cd66b1de"
   },
   "outputs": [
    {
     "name": "stdout",
     "output_type": "stream",
     "text": [
      "/Users/meraz/Desktop/python/mod_02_python_intro\n"
     ]
    }
   ],
   "source": [
    "!pwd"
   ]
  },
  {
   "cell_type": "code",
   "execution_count": 4,
   "metadata": {
    "colab": {
     "base_uri": "https://localhost:8080/",
     "height": 34
    },
    "colab_type": "code",
    "executionInfo": {
     "elapsed": 3832,
     "status": "ok",
     "timestamp": 1584299595590,
     "user": {
      "displayName": "Md Meraz",
      "photoUrl": "https://lh3.googleusercontent.com/a-/AOh14GiCDqeiThy6Uz7npH4ERYGnqSgnpBR6l78yLv1B=s64",
      "userId": "16501587712343191977"
     },
     "user_tz": 420
    },
    "id": "Jiqq0YjzkjIQ",
    "outputId": "2d820810-1492-46bc-84ec-8242a638a378"
   },
   "outputs": [
    {
     "name": "stdout",
     "output_type": "stream",
     "text": [
      "mod_02.pptx                  mod_02_02.ipynb\n",
      "mod_02_01_about_python.ipynb\n"
     ]
    }
   ],
   "source": [
    "!ls"
   ]
  },
  {
   "cell_type": "code",
   "execution_count": 5,
   "metadata": {
    "colab": {
     "base_uri": "https://localhost:8080/",
     "height": 34
    },
    "colab_type": "code",
    "executionInfo": {
     "elapsed": 3628,
     "status": "ok",
     "timestamp": 1584300989928,
     "user": {
      "displayName": "Md Meraz",
      "photoUrl": "https://lh3.googleusercontent.com/a-/AOh14GiCDqeiThy6Uz7npH4ERYGnqSgnpBR6l78yLv1B=s64",
      "userId": "16501587712343191977"
     },
     "user_tz": 420
    },
    "id": "qWoCkQNInUSy",
    "outputId": "9fcb6fb1-aa4e-4fce-af13-57e7af0624a7"
   },
   "outputs": [
    {
     "name": "stdout",
     "output_type": "stream",
     "text": [
      "mod_02.pptx                  mod_02_02.ipynb\n",
      "mod_02_01_about_python.ipynb\n"
     ]
    }
   ],
   "source": [
    "!ls"
   ]
  },
  {
   "cell_type": "code",
   "execution_count": 9,
   "metadata": {},
   "outputs": [],
   "source": [
    "!echo \"print('hello world')\" > test.py "
   ]
  },
  {
   "cell_type": "code",
   "execution_count": 10,
   "metadata": {
    "colab": {
     "base_uri": "https://localhost:8080/",
     "height": 34
    },
    "colab_type": "code",
    "executionInfo": {
     "elapsed": 3569,
     "status": "ok",
     "timestamp": 1584301012904,
     "user": {
      "displayName": "Md Meraz",
      "photoUrl": "https://lh3.googleusercontent.com/a-/AOh14GiCDqeiThy6Uz7npH4ERYGnqSgnpBR6l78yLv1B=s64",
      "userId": "16501587712343191977"
     },
     "user_tz": 420
    },
    "id": "-jXLFoV3so9y",
    "outputId": "884a8ddd-e434-4741-8074-47108ca4b9a1"
   },
   "outputs": [
    {
     "name": "stdout",
     "output_type": "stream",
     "text": [
      "hello world\n"
     ]
    }
   ],
   "source": [
    "!python3 test.py"
   ]
  },
  {
   "cell_type": "markdown",
   "metadata": {
    "colab_type": "text",
    "id": "OEg1u-Fpt7Nq"
   },
   "source": [
    "## Comments in python\n",
    "\n",
    "\n",
    "1.   Single line Comment\n",
    "2.   Multi line Comment\n",
    "\n",
    "\n",
    "> Single line Comment\n",
    "\n"
   ]
  },
  {
   "cell_type": "code",
   "execution_count": 11,
   "metadata": {
    "colab": {},
    "colab_type": "code",
    "id": "_S9Qkw05sumA"
   },
   "outputs": [],
   "source": [
    "#My first single line comment"
   ]
  },
  {
   "cell_type": "markdown",
   "metadata": {
    "colab_type": "text",
    "id": "5nHKIiWyvks6"
   },
   "source": [
    "\n",
    "\n",
    "> Multy line Comment\n"
   ]
  },
  {
   "cell_type": "code",
   "execution_count": 12,
   "metadata": {
    "colab": {
     "base_uri": "https://localhost:8080/",
     "height": 34
    },
    "colab_type": "code",
    "executionInfo": {
     "elapsed": 1360,
     "status": "ok",
     "timestamp": 1584302354159,
     "user": {
      "displayName": "Md Meraz",
      "photoUrl": "https://lh3.googleusercontent.com/a-/AOh14GiCDqeiThy6Uz7npH4ERYGnqSgnpBR6l78yLv1B=s64",
      "userId": "16501587712343191977"
     },
     "user_tz": 420
    },
    "id": "SH6RvwUvtiCx",
    "outputId": "35b238bb-fa76-4b64-ae44-e61aa741704f"
   },
   "outputs": [
    {
     "data": {
      "text/plain": [
       "' multi lne comment\\nprint(\"\"hello\")\\nprint(\"how are you\")\\n'"
      ]
     },
     "execution_count": 12,
     "metadata": {},
     "output_type": "execute_result"
    }
   ],
   "source": [
    "\"\"\" multi lne comment\n",
    "print(\"\"hello\")\n",
    "print(\"how are you\")\n",
    "\"\"\""
   ]
  },
  {
   "cell_type": "code",
   "execution_count": 13,
   "metadata": {
    "colab": {
     "base_uri": "https://localhost:8080/",
     "height": 34
    },
    "colab_type": "code",
    "executionInfo": {
     "elapsed": 1318,
     "status": "ok",
     "timestamp": 1584302357404,
     "user": {
      "displayName": "Md Meraz",
      "photoUrl": "https://lh3.googleusercontent.com/a-/AOh14GiCDqeiThy6Uz7npH4ERYGnqSgnpBR6l78yLv1B=s64",
      "userId": "16501587712343191977"
     },
     "user_tz": 420
    },
    "id": "IAijHYY-wto1",
    "outputId": "94848a7f-ae13-4cd6-f6f2-8ad8a526e303"
   },
   "outputs": [
    {
     "data": {
      "text/plain": [
       "' multi lne comment\\nprint(\"\"hello\")\\nprint(\"how are you\")\\n'"
      ]
     },
     "execution_count": 13,
     "metadata": {},
     "output_type": "execute_result"
    }
   ],
   "source": [
    "''' multi lne comment\n",
    "print(\"\"hello\")\n",
    "print(\"how are you\")\n",
    "'''"
   ]
  },
  {
   "cell_type": "code",
   "execution_count": 17,
   "metadata": {
    "colab": {},
    "colab_type": "code",
    "id": "bQoBTVs8w2a4"
   },
   "outputs": [
    {
     "name": "stdout",
     "output_type": "stream",
     "text": [
      "hello world\n"
     ]
    }
   ],
   "source": [
    "!python3 test.py"
   ]
  },
  {
   "cell_type": "markdown",
   "metadata": {
    "colab_type": "text",
    "id": "M0g-hCai1eFx"
   },
   "source": [
    "#Multi line statement\n",
    "line continuation character ( \\\\ )"
   ]
  },
  {
   "cell_type": "code",
   "execution_count": 20,
   "metadata": {
    "colab": {
     "base_uri": "https://localhost:8080/",
     "height": 68
    },
    "colab_type": "code",
    "executionInfo": {
     "elapsed": 3512,
     "status": "ok",
     "timestamp": 1584304502902,
     "user": {
      "displayName": "Md Meraz",
      "photoUrl": "https://lh3.googleusercontent.com/a-/AOh14GiCDqeiThy6Uz7npH4ERYGnqSgnpBR6l78yLv1B=s64",
      "userId": "16501587712343191977"
     },
     "user_tz": 420
    },
    "id": "iYgc3Q_SxCXI",
    "outputId": "cc628c60-2b4e-4ddc-bc46-0bdeebef4fad"
   },
   "outputs": [],
   "source": [
    "!python3 singleline.py"
   ]
  },
  {
   "cell_type": "markdown",
   "metadata": {
    "colab_type": "text",
    "id": "SXNdgqd16xag"
   },
   "source": [
    "If statement contain in this brackets (below), then no need for line continuation character\n",
    "\n",
    "*   ( )\n",
    "*   { }\n",
    "*   [ ]\n",
    "\n"
   ]
  },
  {
   "cell_type": "code",
   "execution_count": 19,
   "metadata": {
    "colab": {
     "base_uri": "https://localhost:8080/",
     "height": 68
    },
    "colab_type": "code",
    "executionInfo": {
     "elapsed": 3868,
     "status": "ok",
     "timestamp": 1584313146639,
     "user": {
      "displayName": "Md Meraz",
      "photoUrl": "https://lh3.googleusercontent.com/a-/AOh14GiCDqeiThy6Uz7npH4ERYGnqSgnpBR6l78yLv1B=s64",
      "userId": "16501587712343191977"
     },
     "user_tz": 420
    },
    "id": "BRdVnmOO3LFq",
    "outputId": "79a182e5-a1f2-4bc7-b7ac-30ca3b3e0b2f"
   },
   "outputs": [
    {
     "name": "stdout",
     "output_type": "stream",
     "text": [
      "python3: can't open file '/Users/meraz/Desktop/python/mod_02_python_intro/multiline2.py': [Errno 2] No such file or directory\n"
     ]
    }
   ],
   "source": [
    "!python3 multiline2.py"
   ]
  },
  {
   "cell_type": "markdown",
   "metadata": {
    "colab_type": "text",
    "id": "M6IIlpwwbX7e"
   },
   "source": [
    "##MultiLine Print"
   ]
  },
  {
   "cell_type": "code",
   "execution_count": null,
   "metadata": {
    "colab": {
     "base_uri": "https://localhost:8080/",
     "height": 306
    },
    "colab_type": "code",
    "executionInfo": {
     "elapsed": 3586,
     "status": "ok",
     "timestamp": 1584313458096,
     "user": {
      "displayName": "Md Meraz",
      "photoUrl": "https://lh3.googleusercontent.com/a-/AOh14GiCDqeiThy6Uz7npH4ERYGnqSgnpBR6l78yLv1B=s64",
      "userId": "16501587712343191977"
     },
     "user_tz": 420
    },
    "id": "eOnbgkkB8SrB",
    "outputId": "a661f9a0-3c6c-4390-9115-27f68723bcfe"
   },
   "outputs": [
    {
     "name": "stdout",
     "output_type": "stream",
     "text": [
      "\n",
      "my\n",
      "new \n",
      "design\n",
      "\n",
      "---------box design--------\n",
      "\n",
      "==============\n",
      "|            |\n",
      "|            |\n",
      "|    BOX     |\n",
      "|            |\n",
      "|            |\n",
      "==============\n",
      "\n",
      "\n",
      "\n"
     ]
    }
   ],
   "source": [
    "!python3 multiline_print.py"
   ]
  },
  {
   "cell_type": "markdown",
   "metadata": {
    "colab_type": "text",
    "id": "Wf0Z5ocKc-qm"
   },
   "source": [
    "## Python Quotation\n",
    "\n",
    "\n",
    "*   Single quote     '-------'\n",
    "*   Double quote   \"-------\"\n",
    "*   Triple qupte  \"\"\"--------\"\"\n",
    "---\n",
    ">Single and  double line comment are use for single line string\n",
    "\n",
    ">Triple quotes is only use in multiline string only\n",
    "\n"
   ]
  },
  {
   "cell_type": "code",
   "execution_count": 21,
   "metadata": {
    "colab": {
     "base_uri": "https://localhost:8080/",
     "height": 102
    },
    "colab_type": "code",
    "executionInfo": {
     "elapsed": 1217,
     "status": "ok",
     "timestamp": 1584315224872,
     "user": {
      "displayName": "Md Meraz",
      "photoUrl": "https://lh3.googleusercontent.com/a-/AOh14GiCDqeiThy6Uz7npH4ERYGnqSgnpBR6l78yLv1B=s64",
      "userId": "16501587712343191977"
     },
     "user_tz": 420
    },
    "id": "TymI3d-YcM9w",
    "outputId": "39ec619e-25eb-422c-e69b-e99537d0ea99"
   },
   "outputs": [
    {
     "name": "stdout",
     "output_type": "stream",
     "text": [
      "India\n",
      " Jai Hind\n",
      "Bharat\n",
      "        mata ki\n",
      "        Jai \n"
     ]
    }
   ],
   "source": [
    "print ('India')\n",
    "\n",
    "print(\" Jai Hind\")\n",
    "\n",
    "print(\"\"\"Bharat\n",
    "        mata ki\n",
    "        Jai \"\"\")"
   ]
  }
 ],
 "metadata": {
  "colab": {
   "authorship_tag": "ABX9TyNlU4DcnrZ0tI6dHGfthm0S",
   "collapsed_sections": [],
   "name": "mod_02_01_about_python.ipynb",
   "provenance": [
    {
     "file_id": "14s_caJHgCm33UhR35qAzNV0HZ9ExC-l4",
     "timestamp": 1584380864732
    }
   ],
   "toc_visible": true
  },
  "kernelspec": {
   "display_name": "Python 3 (ipykernel)",
   "language": "python",
   "name": "python3"
  },
  "language_info": {
   "codemirror_mode": {
    "name": "ipython",
    "version": 3
   },
   "file_extension": ".py",
   "mimetype": "text/x-python",
   "name": "python",
   "nbconvert_exporter": "python",
   "pygments_lexer": "ipython3",
   "version": "3.9.15"
  }
 },
 "nbformat": 4,
 "nbformat_minor": 4
}
