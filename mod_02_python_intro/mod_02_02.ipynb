{
 "cells": [
  {
   "cell_type": "markdown",
   "metadata": {
    "colab_type": "text",
    "id": "Ih7gcr9o37cL"
   },
   "source": [
    "# Variabel"
   ]
  },
  {
   "cell_type": "code",
   "execution_count": 1,
   "metadata": {
    "colab": {
     "base_uri": "https://localhost:8080/",
     "height": 50
    },
    "colab_type": "code",
    "executionInfo": {
     "elapsed": 1219,
     "status": "ok",
     "timestamp": 1584387994613,
     "user": {
      "displayName": "Md Meraz",
      "photoUrl": "https://lh3.googleusercontent.com/a-/AOh14GiCDqeiThy6Uz7npH4ERYGnqSgnpBR6l78yLv1B=s64",
      "userId": "16501587712343191977"
     },
     "user_tz": 420
    },
    "id": "4HLjoEfF3uLf",
    "outputId": "c3860c58-1fb7-44da-c21f-b6f9857f9734"
   },
   "outputs": [
    {
     "name": "stdout",
     "output_type": "stream",
     "text": [
      "27\n",
      "meraz\n"
     ]
    }
   ],
   "source": [
    " age = 27\n",
    " name = 'meraz'\n",
    " \n",
    " print(age)\n",
    " print(name)"
   ]
  },
  {
   "cell_type": "code",
   "execution_count": 2,
   "metadata": {
    "colab": {
     "base_uri": "https://localhost:8080/",
     "height": 50
    },
    "colab_type": "code",
    "executionInfo": {
     "elapsed": 1017,
     "status": "ok",
     "timestamp": 1584388095462,
     "user": {
      "displayName": "Md Meraz",
      "photoUrl": "https://lh3.googleusercontent.com/a-/AOh14GiCDqeiThy6Uz7npH4ERYGnqSgnpBR6l78yLv1B=s64",
      "userId": "16501587712343191977"
     },
     "user_tz": 420
    },
    "id": "SWnApLe04hKV",
    "outputId": "c6b28bb7-9854-4499-fe98-2fbac86b1fa9"
   },
   "outputs": [
    {
     "name": "stdout",
     "output_type": "stream",
     "text": [
      "27\n",
      "Rahul\n"
     ]
    }
   ],
   "source": [
    "weight, name = 50 , 'Rahul'\n",
    "\n",
    "print(age)\n",
    "print(name)"
   ]
  },
  {
   "cell_type": "code",
   "execution_count": 3,
   "metadata": {
    "colab": {
     "base_uri": "https://localhost:8080/",
     "height": 50
    },
    "colab_type": "code",
    "executionInfo": {
     "elapsed": 1139,
     "status": "ok",
     "timestamp": 1584388216001,
     "user": {
      "displayName": "Md Meraz",
      "photoUrl": "https://lh3.googleusercontent.com/a-/AOh14GiCDqeiThy6Uz7npH4ERYGnqSgnpBR6l78yLv1B=s64",
      "userId": "16501587712343191977"
     },
     "user_tz": 420
    },
    "id": "WjvDboVZ47m3",
    "outputId": "f19cd664-64b1-41c0-acbc-2c0358697687"
   },
   "outputs": [
    {
     "name": "stdout",
     "output_type": "stream",
     "text": [
      "5 7\n",
      "7 5\n"
     ]
    }
   ],
   "source": [
    "a = 5\n",
    "b = 7\n",
    "print(a, b)\n",
    "\n",
    "\n",
    "a , b = b, a #Now swap the variabel\n",
    "print(a , b)\n"
   ]
  },
  {
   "cell_type": "code",
   "execution_count": 4,
   "metadata": {
    "colab": {
     "base_uri": "https://localhost:8080/",
     "height": 34
    },
    "colab_type": "code",
    "executionInfo": {
     "elapsed": 1053,
     "status": "ok",
     "timestamp": 1584388534913,
     "user": {
      "displayName": "Md Meraz",
      "photoUrl": "https://lh3.googleusercontent.com/a-/AOh14GiCDqeiThy6Uz7npH4ERYGnqSgnpBR6l78yLv1B=s64",
      "userId": "16501587712343191977"
     },
     "user_tz": 420
    },
    "id": "Tgvfbos25IEP",
    "outputId": "fa0ae8de-277b-4b94-ec8d-1675be2e851a"
   },
   "outputs": [
    {
     "name": "stdout",
     "output_type": "stream",
     "text": [
      "2 3\n"
     ]
    }
   ],
   "source": [
    "c = 2\n",
    "d = 3\n",
    "print(c, d)"
   ]
  },
  {
   "cell_type": "code",
   "execution_count": 5,
   "metadata": {
    "colab": {},
    "colab_type": "code",
    "id": "1LLgb81-6m4o"
   },
   "outputs": [],
   "source": [
    "del c"
   ]
  },
  {
   "cell_type": "code",
   "execution_count": 6,
   "metadata": {
    "colab": {
     "base_uri": "https://localhost:8080/",
     "height": 162
    },
    "colab_type": "code",
    "executionInfo": {
     "elapsed": 1116,
     "status": "error",
     "timestamp": 1584388555217,
     "user": {
      "displayName": "Md Meraz",
      "photoUrl": "https://lh3.googleusercontent.com/a-/AOh14GiCDqeiThy6Uz7npH4ERYGnqSgnpBR6l78yLv1B=s64",
      "userId": "16501587712343191977"
     },
     "user_tz": 420
    },
    "id": "9FwMO-Ge6o3g",
    "outputId": "5aa33da2-eb90-4fff-b669-66e9f25377e9"
   },
   "outputs": [
    {
     "ename": "NameError",
     "evalue": "name 'c' is not defined",
     "output_type": "error",
     "traceback": [
      "\u001b[0;31m---------------------------------------------------------------------------\u001b[0m",
      "\u001b[0;31mNameError\u001b[0m                                 Traceback (most recent call last)",
      "Cell \u001b[0;32mIn[6], line 1\u001b[0m\n\u001b[0;32m----> 1\u001b[0m \u001b[38;5;28mprint\u001b[39m(\u001b[43mc\u001b[49m)\n",
      "\u001b[0;31mNameError\u001b[0m: name 'c' is not defined"
     ]
    }
   ],
   "source": [
    "print(c)"
   ]
  },
  {
   "cell_type": "markdown",
   "metadata": {
    "colab_type": "text",
    "id": "LrwJ3hgTEhnn"
   },
   "source": [
    "# Data Types"
   ]
  },
  {
   "cell_type": "markdown",
   "metadata": {
    "colab_type": "text",
    "id": "3UlRpcBoyrub"
   },
   "source": [
    "## Int/Float/Complex"
   ]
  },
  {
   "cell_type": "code",
   "execution_count": 7,
   "metadata": {
    "colab": {
     "base_uri": "https://localhost:8080/",
     "height": 84
    },
    "colab_type": "code",
    "executionInfo": {
     "elapsed": 691,
     "status": "ok",
     "timestamp": 1584391782177,
     "user": {
      "displayName": "Md Meraz",
      "photoUrl": "https://lh3.googleusercontent.com/a-/AOh14GiCDqeiThy6Uz7npH4ERYGnqSgnpBR6l78yLv1B=s64",
      "userId": "16501587712343191977"
     },
     "user_tz": 420
    },
    "id": "OD7VRtYP6rxH",
    "outputId": "b43138bf-85d9-414e-e6dc-abb644400b5d"
   },
   "outputs": [
    {
     "name": "stdout",
     "output_type": "stream",
     "text": [
      "0 2 -5\n",
      "<class 'int'> <class 'int'> <class 'int'>\n",
      "0.0 2.05 -13.0\n",
      "<class 'float'> <class 'float'> <class 'float'>\n"
     ]
    }
   ],
   "source": [
    "a, b, c =  0, 2, -5\n",
    "print(a, b, c)\n",
    "print(type(a), type(b), type(c))\n",
    "\n",
    "e, f, g = 0.0, 2.05, -13.0 \n",
    "print(e, f, g)\n",
    "print(type(e), type(f), type(g))"
   ]
  },
  {
   "cell_type": "code",
   "execution_count": 8,
   "metadata": {
    "colab": {
     "base_uri": "https://localhost:8080/",
     "height": 50
    },
    "colab_type": "code",
    "executionInfo": {
     "elapsed": 1032,
     "status": "ok",
     "timestamp": 1584392316198,
     "user": {
      "displayName": "Md Meraz",
      "photoUrl": "https://lh3.googleusercontent.com/a-/AOh14GiCDqeiThy6Uz7npH4ERYGnqSgnpBR6l78yLv1B=s64",
      "userId": "16501587712343191977"
     },
     "user_tz": 420
    },
    "id": "BvHwppcNFpGw",
    "outputId": "2731c786-c1d8-43e0-b316-9dc53eb0c530"
   },
   "outputs": [
    {
     "name": "stdout",
     "output_type": "stream",
     "text": [
      "(2+3j)\n",
      "<class 'complex'>\n"
     ]
    }
   ],
   "source": [
    "x = 2\n",
    "y =3\n",
    "z = complex(x, y)\n",
    "print(z)\n",
    "print(type(z))"
   ]
  },
  {
   "cell_type": "markdown",
   "metadata": {
    "colab_type": "text",
    "id": "JbS8uAsk3mm1"
   },
   "source": [
    "Conversion between Int to float "
   ]
  },
  {
   "cell_type": "code",
   "execution_count": 9,
   "metadata": {
    "colab": {
     "base_uri": "https://localhost:8080/",
     "height": 90
    },
    "colab_type": "code",
    "executionInfo": {
     "elapsed": 1023,
     "status": "ok",
     "timestamp": 1584404855139,
     "user": {
      "displayName": "Md Meraz",
      "photoUrl": "https://lh3.googleusercontent.com/a-/AOh14GiCDqeiThy6Uz7npH4ERYGnqSgnpBR6l78yLv1B=s64",
      "userId": "16501587712343191977"
     },
     "user_tz": 420
    },
    "id": "f-ycRMVg32a3",
    "outputId": "31385424-be88-4a09-90cd-589e45f55221"
   },
   "outputs": [
    {
     "name": "stdout",
     "output_type": "stream",
     "text": [
      "3 2.5\n",
      "<class 'int'> <class 'float'>\n",
      "3.0 2.5\n",
      "<class 'float'> <class 'float'>\n"
     ]
    }
   ],
   "source": [
    "a = 3\n",
    "b = 2.5\n",
    "\n",
    "print(a, b)\n",
    "print(type(a), type(b))\n",
    "\n",
    "a = float(a)\n",
    "\n",
    "\n",
    "print(a, b)\n",
    "print(type(a), type(b))"
   ]
  },
  {
   "cell_type": "markdown",
   "metadata": {
    "colab_type": "text",
    "id": "0n3cUeG9y83B"
   },
   "source": [
    "\n",
    "## String/ List/ Touple\n"
   ]
  },
  {
   "cell_type": "code",
   "execution_count": 10,
   "metadata": {
    "colab": {
     "base_uri": "https://localhost:8080/",
     "height": 35
    },
    "colab_type": "code",
    "executionInfo": {
     "elapsed": 974,
     "status": "ok",
     "timestamp": 1584403648501,
     "user": {
      "displayName": "Md Meraz",
      "photoUrl": "https://lh3.googleusercontent.com/a-/AOh14GiCDqeiThy6Uz7npH4ERYGnqSgnpBR6l78yLv1B=s64",
      "userId": "16501587712343191977"
     },
     "user_tz": 420
    },
    "id": "PIc9RXEOIWX3",
    "outputId": "12ac8e4a-be08-41e9-db73-f7d201628204"
   },
   "outputs": [
    {
     "name": "stdout",
     "output_type": "stream",
     "text": [
      "<class 'str'> <class 'str'> <class 'str'>\n"
     ]
    }
   ],
   "source": [
    "name1 = 'meraz'\n",
    "name2 = \"rahul\"\n",
    "name3 = '''sujit'''\n",
    "print(type(name1), type(name2), type(name3))"
   ]
  },
  {
   "cell_type": "code",
   "execution_count": 11,
   "metadata": {
    "colab": {
     "base_uri": "https://localhost:8080/",
     "height": 54
    },
    "colab_type": "code",
    "executionInfo": {
     "elapsed": 977,
     "status": "ok",
     "timestamp": 1584405106239,
     "user": {
      "displayName": "Md Meraz",
      "photoUrl": "https://lh3.googleusercontent.com/a-/AOh14GiCDqeiThy6Uz7npH4ERYGnqSgnpBR6l78yLv1B=s64",
      "userId": "16501587712343191977"
     },
     "user_tz": 420
    },
    "id": "mzjEZwht0OLY",
    "outputId": "b5ddba7b-b15e-4d5b-ec6d-fa1e5881304b"
   },
   "outputs": [
    {
     "name": "stdout",
     "output_type": "stream",
     "text": [
      "['laptop', 'mobile', 3.147, 10]\n",
      "<class 'list'>\n"
     ]
    }
   ],
   "source": [
    "my_list = ['laptop', 'mobile', 3.147, 10]\n",
    "\n",
    "print(my_list)\n",
    "print(type(my_list))"
   ]
  },
  {
   "cell_type": "code",
   "execution_count": 12,
   "metadata": {
    "colab": {
     "base_uri": "https://localhost:8080/",
     "height": 54
    },
    "colab_type": "code",
    "executionInfo": {
     "elapsed": 1048,
     "status": "ok",
     "timestamp": 1584405333769,
     "user": {
      "displayName": "Md Meraz",
      "photoUrl": "https://lh3.googleusercontent.com/a-/AOh14GiCDqeiThy6Uz7npH4ERYGnqSgnpBR6l78yLv1B=s64",
      "userId": "16501587712343191977"
     },
     "user_tz": 420
    },
    "id": "xJ_lt8Nx5s3m",
    "outputId": "91a103db-f2fd-43c2-e5fd-e388254eecbd"
   },
   "outputs": [
    {
     "name": "stdout",
     "output_type": "stream",
     "text": [
      "('laptop', 'mobile', 3.147, 10)\n",
      "<class 'tuple'>\n"
     ]
    }
   ],
   "source": [
    "my_tuple = ('laptop', 'mobile', 3.147, 10)\n",
    "\n",
    "print(my_tuple)\n",
    "print(type(my_tuple))"
   ]
  },
  {
   "cell_type": "markdown",
   "metadata": {
    "colab_type": "text",
    "id": "0FuRKlN77CM-"
   },
   "source": [
    "## Set/Dictonary"
   ]
  },
  {
   "cell_type": "code",
   "execution_count": 13,
   "metadata": {
    "colab": {
     "base_uri": "https://localhost:8080/",
     "height": 54
    },
    "colab_type": "code",
    "executionInfo": {
     "elapsed": 967,
     "status": "ok",
     "timestamp": 1584405961346,
     "user": {
      "displayName": "Md Meraz",
      "photoUrl": "https://lh3.googleusercontent.com/a-/AOh14GiCDqeiThy6Uz7npH4ERYGnqSgnpBR6l78yLv1B=s64",
      "userId": "16501587712343191977"
     },
     "user_tz": 420
    },
    "id": "evvOTlRl6c5-",
    "outputId": "7fbcd04b-7de5-4007-e676-7a4578d4a28d"
   },
   "outputs": [
    {
     "name": "stdout",
     "output_type": "stream",
     "text": [
      "{'a': 1, 'e': 5, 'i': 9}\n",
      "<class 'dict'>\n"
     ]
    }
   ],
   "source": [
    "my_dict  = {\"a\": 1, \"e\":5, \"i\":9}\n",
    "print(my_dict)\n",
    "print(type(my_dict))"
   ]
  },
  {
   "cell_type": "code",
   "execution_count": 14,
   "metadata": {
    "colab": {
     "base_uri": "https://localhost:8080/",
     "height": 54
    },
    "colab_type": "code",
    "executionInfo": {
     "elapsed": 1030,
     "status": "ok",
     "timestamp": 1584406067762,
     "user": {
      "displayName": "Md Meraz",
      "photoUrl": "https://lh3.googleusercontent.com/a-/AOh14GiCDqeiThy6Uz7npH4ERYGnqSgnpBR6l78yLv1B=s64",
      "userId": "16501587712343191977"
     },
     "user_tz": 420
    },
    "id": "VxpqbtL39FZR",
    "outputId": "6a3c2ede-7db1-4290-d15a-6180c6122220"
   },
   "outputs": [
    {
     "name": "stdout",
     "output_type": "stream",
     "text": [
      "{1, 2, 3, 4, 5}\n",
      "<class 'set'>\n"
     ]
    }
   ],
   "source": [
    "my_set = {1, 2, 3, 4, 5}\n",
    "print(my_set)\n",
    "print(type(my_set))"
   ]
  },
  {
   "cell_type": "code",
   "execution_count": 15,
   "metadata": {
    "colab": {
     "base_uri": "https://localhost:8080/",
     "height": 35
    },
    "colab_type": "code",
    "executionInfo": {
     "elapsed": 1060,
     "status": "ok",
     "timestamp": 1584406134514,
     "user": {
      "displayName": "Md Meraz",
      "photoUrl": "https://lh3.googleusercontent.com/a-/AOh14GiCDqeiThy6Uz7npH4ERYGnqSgnpBR6l78yLv1B=s64",
      "userId": "16501587712343191977"
     },
     "user_tz": 420
    },
    "id": "1GT0-O3b9XUe",
    "outputId": "4d3de25d-9dc9-4f1f-dfb7-ffc0687b86f3"
   },
   "outputs": [
    {
     "name": "stdout",
     "output_type": "stream",
     "text": [
      "<class 'dict'>\n"
     ]
    }
   ],
   "source": [
    "ramu = {}\n",
    "print(type(ramu))"
   ]
  },
  {
   "cell_type": "markdown",
   "metadata": {
    "colab_type": "text",
    "id": "RbgchDaw_kAR"
   },
   "source": [
    "## Boolean"
   ]
  },
  {
   "cell_type": "code",
   "execution_count": 16,
   "metadata": {
    "colab": {
     "base_uri": "https://localhost:8080/",
     "height": 54
    },
    "colab_type": "code",
    "executionInfo": {
     "elapsed": 1032,
     "status": "ok",
     "timestamp": 1584406756256,
     "user": {
      "displayName": "Md Meraz",
      "photoUrl": "https://lh3.googleusercontent.com/a-/AOh14GiCDqeiThy6Uz7npH4ERYGnqSgnpBR6l78yLv1B=s64",
      "userId": "16501587712343191977"
     },
     "user_tz": 420
    },
    "id": "sCfVN1Na9vnN",
    "outputId": "c378beb9-bb3c-4673-ddcc-9c7f61a40a21"
   },
   "outputs": [
    {
     "name": "stdout",
     "output_type": "stream",
     "text": [
      "True False\n",
      "<class 'bool'> <class 'bool'>\n"
     ]
    }
   ],
   "source": [
    "a = 5\n",
    "b = 4\n",
    "c = a > b\n",
    "d = b > a\n",
    "print(c, d)\n",
    "print(type(c), type(d))"
   ]
  },
  {
   "cell_type": "markdown",
   "metadata": {
    "colab_type": "text",
    "id": "Q4Y09Cwd-fJ3"
   },
   "source": [
    "# Python Basic Operation\n"
   ]
  },
  {
   "cell_type": "code",
   "execution_count": 17,
   "metadata": {
    "colab": {
     "base_uri": "https://localhost:8080/",
     "height": 145
    },
    "colab_type": "code",
    "executionInfo": {
     "elapsed": 1171,
     "status": "ok",
     "timestamp": 1584408256904,
     "user": {
      "displayName": "Md Meraz",
      "photoUrl": "https://lh3.googleusercontent.com/a-/AOh14GiCDqeiThy6Uz7npH4ERYGnqSgnpBR6l78yLv1B=s64",
      "userId": "16501587712343191977"
     },
     "user_tz": 420
    },
    "id": "jiWwmmMLErRm",
    "outputId": "8e5bb223-832a-4123-ef2d-bb0483607794"
   },
   "outputs": [
    {
     "name": "stdout",
     "output_type": "stream",
     "text": [
      "Addition 7\n",
      "Subtraction 3\n",
      "Multipication 10\n",
      "Division 2.5\n",
      "Modulus 1\n",
      "Exponent 25\n",
      "FloorDivision 2\n"
     ]
    }
   ],
   "source": [
    "a = 5\n",
    "b = 2\n",
    "print(\"Addition\", a+b)\n",
    "print(\"Subtraction\", a-b)\n",
    "print(\"Multipication\", a*b)\n",
    "print(\"Division\", a/b)\n",
    "print(\"Modulus\", a%b)\n",
    "print(\"Exponent\", a**b)\n",
    "print(\"FloorDivision\", a//b)"
   ]
  },
  {
   "cell_type": "markdown",
   "metadata": {
    "colab_type": "text",
    "id": "HwScC7-Gf3Ah"
   },
   "source": [
    "## Python Comparison operator"
   ]
  },
  {
   "cell_type": "code",
   "execution_count": 18,
   "metadata": {
    "colab": {
     "base_uri": "https://localhost:8080/",
     "height": 72
    },
    "colab_type": "code",
    "executionInfo": {
     "elapsed": 1432,
     "status": "ok",
     "timestamp": 1584467458331,
     "user": {
      "displayName": "Md Meraz",
      "photoUrl": "https://lh3.googleusercontent.com/a-/AOh14GiCDqeiThy6Uz7npH4ERYGnqSgnpBR6l78yLv1B=s64",
      "userId": "16501587712343191977"
     },
     "user_tz": 420
    },
    "id": "RT4HhI7ClsDX",
    "outputId": "2ca9c344-d491-4f72-e207-2c3602e85f3c"
   },
   "outputs": [
    {
     "name": "stdout",
     "output_type": "stream",
     "text": [
      "False\n",
      "True\n",
      "False\n"
     ]
    }
   ],
   "source": [
    "a = 5\n",
    "b = 4\n",
    "c = 5.0\n",
    "d = \"india\"\n",
    "print (a == b)\n",
    "print (a ==c)\n",
    "print(a==d)\n"
   ]
  },
  {
   "cell_type": "markdown",
   "metadata": {
    "colab_type": "text",
    "id": "g2ulWCQ5lgcQ"
   },
   "source": [
    "## Python logical operator"
   ]
  },
  {
   "cell_type": "code",
   "execution_count": 19,
   "metadata": {
    "colab": {
     "base_uri": "https://localhost:8080/",
     "height": 145
    },
    "colab_type": "code",
    "executionInfo": {
     "elapsed": 1397,
     "status": "ok",
     "timestamp": 1584468778815,
     "user": {
      "displayName": "Md Meraz",
      "photoUrl": "https://lh3.googleusercontent.com/a-/AOh14GiCDqeiThy6Uz7npH4ERYGnqSgnpBR6l78yLv1B=s64",
      "userId": "16501587712343191977"
     },
     "user_tz": 420
    },
    "id": "8xEhnRxOgRS1",
    "outputId": "7b605785-967a-4dfb-ff61-082c3e3f9eb1"
   },
   "outputs": [
    {
     "name": "stdout",
     "output_type": "stream",
     "text": [
      "3\n",
      "5\n",
      "3\n",
      "True\n",
      "False\n",
      "False\n",
      "False\n"
     ]
    }
   ],
   "source": [
    "a = 5\n",
    "b = 3\n",
    "c = 3\n",
    "d = True\n",
    "e = False\n",
    "\n",
    "print (a and b)\n",
    "print (b and a)\n",
    "print(b and c)\n",
    "print(a and d)\n",
    "print(a and e)\n",
    "print(d and e)\n",
    "print(e and d)\n"
   ]
  },
  {
   "cell_type": "code",
   "execution_count": 18,
   "metadata": {
    "colab": {
     "base_uri": "https://localhost:8080/",
     "height": 145
    },
    "colab_type": "code",
    "executionInfo": {
     "elapsed": 1303,
     "status": "ok",
     "timestamp": 1584468903997,
     "user": {
      "displayName": "Md Meraz",
      "photoUrl": "https://lh3.googleusercontent.com/a-/AOh14GiCDqeiThy6Uz7npH4ERYGnqSgnpBR6l78yLv1B=s64",
      "userId": "16501587712343191977"
     },
     "user_tz": 420
    },
    "id": "GgZIv9VKm-W0",
    "outputId": "e7b726db-93ae-45f5-9356-eca5f09a29c7"
   },
   "outputs": [
    {
     "name": "stdout",
     "output_type": "stream",
     "text": [
      "5\n",
      "3\n",
      "3\n",
      "5\n",
      "5\n",
      "False\n",
      "False\n"
     ]
    }
   ],
   "source": [
    "a = 5\n",
    "b = 3\n",
    "c = 3\n",
    "d = True\n",
    "e = False\n",
    "\n",
    "print (a or b)\n",
    "print (b or a)\n",
    "print(b or c)\n",
    "print(a or d)\n",
    "print(a or e)\n",
    "print(d and e)\n",
    "print(e and d)\n"
   ]
  },
  {
   "cell_type": "markdown",
   "metadata": {
    "colab_type": "text",
    "id": "sW9v_tQbvnjG"
   },
   "source": [
    "##Membership Operator"
   ]
  },
  {
   "cell_type": "code",
   "execution_count": 21,
   "metadata": {
    "colab": {
     "base_uri": "https://localhost:8080/",
     "height": 72
    },
    "colab_type": "code",
    "executionInfo": {
     "elapsed": 1316,
     "status": "ok",
     "timestamp": 1584469722235,
     "user": {
      "displayName": "Md Meraz",
      "photoUrl": "https://lh3.googleusercontent.com/a-/AOh14GiCDqeiThy6Uz7npH4ERYGnqSgnpBR6l78yLv1B=s64",
      "userId": "16501587712343191977"
     },
     "user_tz": 420
    },
    "id": "0wGv5W5Asbpu",
    "outputId": "716f7510-450c-4c8b-ecd6-50e594fbf07a"
   },
   "outputs": [
    {
     "name": "stdout",
     "output_type": "stream",
     "text": [
      "True\n",
      "False\n",
      "False\n"
     ]
    }
   ],
   "source": [
    "x = \"meraz\"\n",
    "print( 'a' in x)\n",
    "print( 'b' in x)\n",
    "print( '2' in x)"
   ]
  },
  {
   "cell_type": "code",
   "execution_count": 24,
   "metadata": {
    "colab": {
     "base_uri": "https://localhost:8080/",
     "height": 90
    },
    "colab_type": "code",
    "executionInfo": {
     "elapsed": 1727,
     "status": "ok",
     "timestamp": 1584469901511,
     "user": {
      "displayName": "Md Meraz",
      "photoUrl": "https://lh3.googleusercontent.com/a-/AOh14GiCDqeiThy6Uz7npH4ERYGnqSgnpBR6l78yLv1B=s64",
      "userId": "16501587712343191977"
     },
     "user_tz": 420
    },
    "id": "ePEv3zPewCKt",
    "outputId": "29c403ef-371f-48c3-8f94-39822459ae38"
   },
   "outputs": [
    {
     "name": "stdout",
     "output_type": "stream",
     "text": [
      "True\n",
      "True\n",
      "False\n",
      "True\n"
     ]
    }
   ],
   "source": [
    "y = [1, 2, 3, 4]\n",
    "\n",
    "print(1 in y)\n",
    "print(3.0 in y)\n",
    "print( 5 in y)\n",
    "print( 6 not in y)"
   ]
  },
  {
   "cell_type": "code",
   "execution_count": 25,
   "metadata": {
    "colab": {
     "base_uri": "https://localhost:8080/",
     "height": 90
    },
    "colab_type": "code",
    "executionInfo": {
     "elapsed": 1312,
     "status": "ok",
     "timestamp": 1584469966596,
     "user": {
      "displayName": "Md Meraz",
      "photoUrl": "https://lh3.googleusercontent.com/a-/AOh14GiCDqeiThy6Uz7npH4ERYGnqSgnpBR6l78yLv1B=s64",
      "userId": "16501587712343191977"
     },
     "user_tz": 420
    },
    "id": "LBtAKG_1wgMN",
    "outputId": "6e2083d0-d818-4fbc-b1f8-2c449c1cea19"
   },
   "outputs": [
    {
     "name": "stdout",
     "output_type": "stream",
     "text": [
      "True\n",
      "True\n",
      "False\n",
      "True\n"
     ]
    }
   ],
   "source": [
    "y = (1, 2, 3, 4)\n",
    "\n",
    "print(1 in y)\n",
    "print(3.0 in y)\n",
    "print( 5 in y)\n",
    "print( 6 not in y)"
   ]
  },
  {
   "cell_type": "code",
   "execution_count": 26,
   "metadata": {
    "colab": {
     "base_uri": "https://localhost:8080/",
     "height": 90
    },
    "colab_type": "code",
    "executionInfo": {
     "elapsed": 1325,
     "status": "ok",
     "timestamp": 1584469999540,
     "user": {
      "displayName": "Md Meraz",
      "photoUrl": "https://lh3.googleusercontent.com/a-/AOh14GiCDqeiThy6Uz7npH4ERYGnqSgnpBR6l78yLv1B=s64",
      "userId": "16501587712343191977"
     },
     "user_tz": 420
    },
    "id": "TdCqpAHUxPma",
    "outputId": "eaaea103-6889-46e3-a0ed-9bd289185001"
   },
   "outputs": [
    {
     "name": "stdout",
     "output_type": "stream",
     "text": [
      "True\n",
      "True\n",
      "False\n",
      "True\n"
     ]
    }
   ],
   "source": [
    "y = {1, 2, 3, 4}\n",
    "\n",
    "print(1 in y)\n",
    "print(3.0 in y)\n",
    "print( 5 in y)\n",
    "print( 6 not in y)"
   ]
  },
  {
   "cell_type": "markdown",
   "metadata": {
    "colab_type": "text",
    "id": "tLlD0o9dztE8"
   },
   "source": [
    "##Identity Operator"
   ]
  },
  {
   "cell_type": "code",
   "execution_count": 29,
   "metadata": {
    "colab": {
     "base_uri": "https://localhost:8080/",
     "height": 72
    },
    "colab_type": "code",
    "executionInfo": {
     "elapsed": 1381,
     "status": "ok",
     "timestamp": 1584471002087,
     "user": {
      "displayName": "Md Meraz",
      "photoUrl": "https://lh3.googleusercontent.com/a-/AOh14GiCDqeiThy6Uz7npH4ERYGnqSgnpBR6l78yLv1B=s64",
      "userId": "16501587712343191977"
     },
     "user_tz": 420
    },
    "id": "j7I_S4oBxXpL",
    "outputId": "48ad5745-f462-4dcc-ffa4-a550d86dfb52"
   },
   "outputs": [
    {
     "name": "stdout",
     "output_type": "stream",
     "text": [
      "True\n",
      "10914624\n",
      "10914624\n"
     ]
    }
   ],
   "source": [
    "x = 5\n",
    "y = x\n",
    "\n",
    "print( x is y)\n",
    "print(id(x))\n",
    "print(id(y))"
   ]
  },
  {
   "cell_type": "code",
   "execution_count": 31,
   "metadata": {
    "colab": {
     "base_uri": "https://localhost:8080/",
     "height": 54
    },
    "colab_type": "code",
    "executionInfo": {
     "elapsed": 1370,
     "status": "ok",
     "timestamp": 1584471079430,
     "user": {
      "displayName": "Md Meraz",
      "photoUrl": "https://lh3.googleusercontent.com/a-/AOh14GiCDqeiThy6Uz7npH4ERYGnqSgnpBR6l78yLv1B=s64",
      "userId": "16501587712343191977"
     },
     "user_tz": 420
    },
    "id": "Mx30WgLt0v-T",
    "outputId": "37fb2692-8093-41d6-83d0-42886ae26ee0"
   },
   "outputs": [
    {
     "name": "stdout",
     "output_type": "stream",
     "text": [
      "True\n",
      "10914624\n"
     ]
    }
   ],
   "source": [
    "z = 5\n",
    "print(x is z)\n",
    "print(id(z))"
   ]
  },
  {
   "cell_type": "code",
   "execution_count": null,
   "metadata": {
    "colab": {},
    "colab_type": "code",
    "id": "XD-mNICc1Xlk"
   },
   "outputs": [],
   "source": [
    "def fun():\n",
    "  return [1, 2, 3]"
   ]
  },
  {
   "cell_type": "code",
   "execution_count": 37,
   "metadata": {
    "colab": {
     "base_uri": "https://localhost:8080/",
     "height": 72
    },
    "colab_type": "code",
    "executionInfo": {
     "elapsed": 2620,
     "status": "ok",
     "timestamp": 1584473929192,
     "user": {
      "displayName": "Md Meraz",
      "photoUrl": "https://lh3.googleusercontent.com/a-/AOh14GiCDqeiThy6Uz7npH4ERYGnqSgnpBR6l78yLv1B=s64",
      "userId": "16501587712343191977"
     },
     "user_tz": 420
    },
    "id": "3v0ZSqBE6lnq",
    "outputId": "7a688ec1-addb-4a76-a4a4-d8726c88a6a7"
   },
   "outputs": [
    {
     "name": "stdout",
     "output_type": "stream",
     "text": [
      "False\n",
      "140276521625736\n",
      "10914624\n"
     ]
    }
   ],
   "source": [
    "p = [1, 2, 3]\n",
    "t = fun()\n",
    "print( p is t)\n",
    "print(id(p))\n",
    "print(id(t))"
   ]
  },
  {
   "cell_type": "code",
   "execution_count": 38,
   "metadata": {
    "colab": {
     "base_uri": "https://localhost:8080/",
     "height": 72
    },
    "colab_type": "code",
    "executionInfo": {
     "elapsed": 2539,
     "status": "ok",
     "timestamp": 1584474018544,
     "user": {
      "displayName": "Md Meraz",
      "photoUrl": "https://lh3.googleusercontent.com/a-/AOh14GiCDqeiThy6Uz7npH4ERYGnqSgnpBR6l78yLv1B=s64",
      "userId": "16501587712343191977"
     },
     "user_tz": 420
    },
    "id": "mVDM26rg653i",
    "outputId": "11cc0a41-f22b-4f96-b078-d925d95de6cf"
   },
   "outputs": [
    {
     "name": "stdout",
     "output_type": "stream",
     "text": [
      "False\n",
      "140276532338264\n",
      "140276532669464\n"
     ]
    }
   ],
   "source": [
    "def fun():\n",
    "  return (1, 2, 3)\n",
    "p = (1, 2, 3)\n",
    "t = fun()\n",
    "print( p is t)\n",
    "print(id(p))\n",
    "print(id(t))\n"
   ]
  },
  {
   "cell_type": "code",
   "execution_count": 39,
   "metadata": {
    "colab": {
     "base_uri": "https://localhost:8080/",
     "height": 72
    },
    "colab_type": "code",
    "executionInfo": {
     "elapsed": 1559,
     "status": "ok",
     "timestamp": 1584474064943,
     "user": {
      "displayName": "Md Meraz",
      "photoUrl": "https://lh3.googleusercontent.com/a-/AOh14GiCDqeiThy6Uz7npH4ERYGnqSgnpBR6l78yLv1B=s64",
      "userId": "16501587712343191977"
     },
     "user_tz": 420
    },
    "id": "AfpHkmf0Asio",
    "outputId": "e05ff38b-cda0-4ce7-ff89-9ca2bba3472a"
   },
   "outputs": [
    {
     "name": "stdout",
     "output_type": "stream",
     "text": [
      "True\n",
      "10914688\n",
      "10914688\n"
     ]
    }
   ],
   "source": [
    "def fun():\n",
    "  return 7\n",
    "p = 7\n",
    "t = fun()\n",
    "print( p is t)\n",
    "print(id(p))\n",
    "print(id(t))"
   ]
  },
  {
   "cell_type": "code",
   "execution_count": null,
   "metadata": {
    "colab": {},
    "colab_type": "code",
    "id": "DjeB8hfzA4HZ"
   },
   "outputs": [],
   "source": []
  }
 ],
 "metadata": {
  "colab": {
   "authorship_tag": "ABX9TyOONqRa+meE8GCE+EPhG8EA",
   "collapsed_sections": [],
   "name": "mod_02_02.ipynb",
   "provenance": []
  },
  "kernelspec": {
   "display_name": "Python 3 (ipykernel)",
   "language": "python",
   "name": "python3"
  },
  "language_info": {
   "codemirror_mode": {
    "name": "ipython",
    "version": 3
   },
   "file_extension": ".py",
   "mimetype": "text/x-python",
   "name": "python",
   "nbconvert_exporter": "python",
   "pygments_lexer": "ipython3",
   "version": "3.9.15"
  }
 },
 "nbformat": 4,
 "nbformat_minor": 4
}
