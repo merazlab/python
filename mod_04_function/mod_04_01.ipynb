{
 "cells": [
  {
   "cell_type": "markdown",
   "metadata": {
    "colab_type": "text",
    "id": "2M6sklI0ig9J"
   },
   "source": [
    "#Function"
   ]
  },
  {
   "cell_type": "markdown",
   "metadata": {
    "colab_type": "text",
    "id": "6Mxj4QRxj7Zi"
   },
   "source": [
    "*01*- No Parameter-No return "
   ]
  },
  {
   "cell_type": "code",
   "execution_count": null,
   "metadata": {
    "colab": {
     "base_uri": "https://localhost:8080/",
     "height": 34
    },
    "colab_type": "code",
    "executionInfo": {
     "elapsed": 1289,
     "status": "ok",
     "timestamp": 1584551724920,
     "user": {
      "displayName": "Md Meraz",
      "photoUrl": "https://lh3.googleusercontent.com/a-/AOh14GiCDqeiThy6Uz7npH4ERYGnqSgnpBR6l78yLv1B=s64",
      "userId": "16501587712343191977"
     },
     "user_tz": 420
    },
    "id": "HRHgcWdEiXWH",
    "outputId": "fc82dcab-8c27-403a-8fef-56f9565c5f24"
   },
   "outputs": [
    {
     "name": "stdout",
     "output_type": "stream",
     "text": [
      "5\n"
     ]
    }
   ],
   "source": [
    "#.....Function start....\n",
    "def add():\n",
    "  a = 2\n",
    "  b = 3\n",
    "  sum = a +b\n",
    "  print(sum)\n",
    "#.....Function end..\n",
    "\n",
    "add()\n"
   ]
  },
  {
   "cell_type": "markdown",
   "metadata": {
    "colab_type": "text",
    "id": "cJ6cmzRLpLXF"
   },
   "source": [
    "02-No parameeter- Return Value"
   ]
  },
  {
   "cell_type": "code",
   "execution_count": null,
   "metadata": {
    "colab": {
     "base_uri": "https://localhost:8080/",
     "height": 34
    },
    "colab_type": "code",
    "executionInfo": {
     "elapsed": 1400,
     "status": "ok",
     "timestamp": 1584551843955,
     "user": {
      "displayName": "Md Meraz",
      "photoUrl": "https://lh3.googleusercontent.com/a-/AOh14GiCDqeiThy6Uz7npH4ERYGnqSgnpBR6l78yLv1B=s64",
      "userId": "16501587712343191977"
     },
     "user_tz": 420
    },
    "id": "0Bc3YkICk5hW",
    "outputId": "cda65f73-69b9-4a51-86bc-9ce9899fa68a"
   },
   "outputs": [
    {
     "name": "stdout",
     "output_type": "stream",
     "text": [
      "5\n"
     ]
    }
   ],
   "source": [
    "#.....Function start....\n",
    "def add():\n",
    "  a = 2\n",
    "  b = 3\n",
    "  sum = a +b\n",
    "  return sum\n",
    "#.....Function end..\n",
    "\n",
    "result = add()\n",
    "print(result)\n"
   ]
  },
  {
   "cell_type": "markdown",
   "metadata": {
    "colab_type": "text",
    "id": "mzlakMQOppkM"
   },
   "source": [
    "03-with Parameter - No *return*  "
   ]
  },
  {
   "cell_type": "code",
   "execution_count": null,
   "metadata": {
    "colab": {
     "base_uri": "https://localhost:8080/",
     "height": 34
    },
    "colab_type": "code",
    "executionInfo": {
     "elapsed": 851,
     "status": "ok",
     "timestamp": 1584552061405,
     "user": {
      "displayName": "Md Meraz",
      "photoUrl": "https://lh3.googleusercontent.com/a-/AOh14GiCDqeiThy6Uz7npH4ERYGnqSgnpBR6l78yLv1B=s64",
      "userId": "16501587712343191977"
     },
     "user_tz": 420
    },
    "id": "RruotPmgplLM",
    "outputId": "bc39f5ca-9d5b-4423-8a87-e8f0a368caa1"
   },
   "outputs": [
    {
     "name": "stdout",
     "output_type": "stream",
     "text": [
      "9\n"
     ]
    }
   ],
   "source": [
    "#.....Function start....\n",
    "def add(x, y):\n",
    "  sum = x + y\n",
    "  print(sum)\n",
    "#.....Function end..\n",
    "\n",
    "add(4, 5)\n"
   ]
  },
  {
   "cell_type": "markdown",
   "metadata": {
    "colab_type": "text",
    "id": "XVhcOfZUqg5M"
   },
   "source": [
    "04-With Parameter - with return"
   ]
  },
  {
   "cell_type": "code",
   "execution_count": null,
   "metadata": {
    "colab": {
     "base_uri": "https://localhost:8080/",
     "height": 34
    },
    "colab_type": "code",
    "executionInfo": {
     "elapsed": 1300,
     "status": "ok",
     "timestamp": 1584552424717,
     "user": {
      "displayName": "Md Meraz",
      "photoUrl": "https://lh3.googleusercontent.com/a-/AOh14GiCDqeiThy6Uz7npH4ERYGnqSgnpBR6l78yLv1B=s64",
      "userId": "16501587712343191977"
     },
     "user_tz": 420
    },
    "id": "4vJ-HKjpqaXr",
    "outputId": "3fc629d4-68c8-45c6-a95f-4b2042d50bc3"
   },
   "outputs": [
    {
     "name": "stdout",
     "output_type": "stream",
     "text": [
      "9\n"
     ]
    }
   ],
   "source": [
    "#.....Function start....\n",
    "def add(x, y):\n",
    "  sum = x + y\n",
    "  return sum\n",
    "#.....Function end..\n",
    "\n",
    "result = add(4, 5)\n",
    "print(result)"
   ]
  },
  {
   "cell_type": "markdown",
   "metadata": {
    "colab_type": "text",
    "id": "nQ17VAKa5tPE"
   },
   "source": [
    "##Parameter in Function"
   ]
  },
  {
   "cell_type": "markdown",
   "metadata": {
    "colab_type": "text",
    "id": "1tYRH-ub54EZ"
   },
   "source": [
    "01-No Default parameter"
   ]
  },
  {
   "cell_type": "code",
   "execution_count": null,
   "metadata": {
    "colab": {
     "base_uri": "https://localhost:8080/",
     "height": 34
    },
    "colab_type": "code",
    "executionInfo": {
     "elapsed": 2969,
     "status": "ok",
     "timestamp": 1584556987351,
     "user": {
      "displayName": "Md Meraz",
      "photoUrl": "https://lh3.googleusercontent.com/a-/AOh14GiCDqeiThy6Uz7npH4ERYGnqSgnpBR6l78yLv1B=s64",
      "userId": "16501587712343191977"
     },
     "user_tz": 420
    },
    "id": "geqoHWsMry_M",
    "outputId": "9d5ff8bb-ebd3-4c10-a5ca-09414e4035f7"
   },
   "outputs": [
    {
     "name": "stdout",
     "output_type": "stream",
     "text": [
      "12\n"
     ]
    }
   ],
   "source": [
    "def mul(x, y):\n",
    "  result = x * y\n",
    "  print(result)\n",
    "\n",
    "mul(3, 4)"
   ]
  },
  {
   "cell_type": "markdown",
   "metadata": {
    "colab_type": "text",
    "id": "DEBd3MCB9yHZ"
   },
   "source": [
    "02-Default parameter"
   ]
  },
  {
   "cell_type": "code",
   "execution_count": null,
   "metadata": {
    "colab": {
     "base_uri": "https://localhost:8080/",
     "height": 67
    },
    "colab_type": "code",
    "executionInfo": {
     "elapsed": 1592,
     "status": "ok",
     "timestamp": 1584557095172,
     "user": {
      "displayName": "Md Meraz",
      "photoUrl": "https://lh3.googleusercontent.com/a-/AOh14GiCDqeiThy6Uz7npH4ERYGnqSgnpBR6l78yLv1B=s64",
      "userId": "16501587712343191977"
     },
     "user_tz": 420
    },
    "id": "DtRfl9c49IWA",
    "outputId": "35870076-54d8-4b5a-c429-7ae95f974b60"
   },
   "outputs": [
    {
     "name": "stdout",
     "output_type": "stream",
     "text": [
      "8\n",
      "20\n",
      "15\n"
     ]
    }
   ],
   "source": [
    "def mul(x=2, y=4):\n",
    "  result = x * y\n",
    "  print(result)\n",
    "\n",
    "mul()\n",
    "mul(5)\n",
    "mul(3, 5)"
   ]
  },
  {
   "cell_type": "markdown",
   "metadata": {
    "colab_type": "text",
    "id": "mTVihOP595yQ"
   },
   "source": [
    "03-No Default + Default Parameter"
   ]
  },
  {
   "cell_type": "code",
   "execution_count": null,
   "metadata": {
    "colab": {
     "base_uri": "https://localhost:8080/",
     "height": 50
    },
    "colab_type": "code",
    "executionInfo": {
     "elapsed": 1342,
     "status": "ok",
     "timestamp": 1584557469065,
     "user": {
      "displayName": "Md Meraz",
      "photoUrl": "https://lh3.googleusercontent.com/a-/AOh14GiCDqeiThy6Uz7npH4ERYGnqSgnpBR6l78yLv1B=s64",
      "userId": "16501587712343191977"
     },
     "user_tz": 420
    },
    "id": "UfbDOmj79nKY",
    "outputId": "ddc739c1-adf9-4c68-bd59-f8c01f84453c"
   },
   "outputs": [
    {
     "name": "stdout",
     "output_type": "stream",
     "text": [
      "24\n",
      "60\n"
     ]
    }
   ],
   "source": [
    "def mul(x, y, z=2): # default parameter not put right side\n",
    "  result = x * y * z\n",
    "  print(result)\n",
    "\n",
    "mul(3, 4)\n",
    "mul(3, 4, 5)"
   ]
  },
  {
   "cell_type": "markdown",
   "metadata": {
    "colab_type": "text",
    "id": "xsBnfzbUDErc"
   },
   "source": [
    "## 04-Arbitray Parameter\n",
    "\n",
    "*args and **kwargs are special keyword which allows function to take variable length argument.\n",
    "\n",
    "*args passes variable number of non-keyworded arguments and on which operation of the tuple can be performed.\n",
    "\n",
    "**kwargs passes variable number of keyword arguments dictionary to function on which operation of a dictionary can be performed.\n",
    "\n",
    "*args and **kwargs make the function flexible.\n",
    "\n",
    "\n",
    "  "
   ]
  },
  {
   "cell_type": "code",
   "execution_count": 9,
   "metadata": {
    "colab": {
     "base_uri": "https://localhost:8080/",
     "height": 151
    },
    "colab_type": "code",
    "executionInfo": {
     "elapsed": 1055,
     "status": "ok",
     "timestamp": 1584575535603,
     "user": {
      "displayName": "Md Meraz",
      "photoUrl": "https://lh3.googleusercontent.com/a-/AOh14GiCDqeiThy6Uz7npH4ERYGnqSgnpBR6l78yLv1B=s64",
      "userId": "16501587712343191977"
     },
     "user_tz": 420
    },
    "id": "L2qyvMcgDbS6",
    "outputId": "553805ad-a80e-49e0-8210-8c462ef5f958"
   },
   "outputs": [
    {
     "name": "stdout",
     "output_type": "stream",
     "text": [
      "()\n",
      "<class 'tuple'>\n",
      "(2,)\n",
      "<class 'tuple'>\n",
      "(2, 3)\n",
      "<class 'tuple'>\n",
      "(4, 5, 'md')\n",
      "<class 'tuple'>\n"
     ]
    }
   ],
   "source": [
    "def add(*a):\n",
    "  print(a)\n",
    "  print(type(a))\n",
    "\n",
    "add()\n",
    "add(2)\n",
    "add(2, 3)\n",
    "add(4, 5, \"md\")"
   ]
  },
  {
   "cell_type": "code",
   "execution_count": 10,
   "metadata": {
    "colab": {
     "base_uri": "https://localhost:8080/",
     "height": 118
    },
    "colab_type": "code",
    "executionInfo": {
     "elapsed": 1123,
     "status": "ok",
     "timestamp": 1584578899549,
     "user": {
      "displayName": "Md Meraz",
      "photoUrl": "https://lh3.googleusercontent.com/a-/AOh14GiCDqeiThy6Uz7npH4ERYGnqSgnpBR6l78yLv1B=s64",
      "userId": "16501587712343191977"
     },
     "user_tz": 420
    },
    "id": "hoPceJq9EAf7",
    "outputId": "05cb98a4-3b84-4663-af32-4a2d134302ac"
   },
   "outputs": [
    {
     "name": "stdout",
     "output_type": "stream",
     "text": [
      "{}\n",
      "<class 'dict'>\n",
      "{'mohan': '4', 'reddy': '6'}\n",
      "<class 'dict'>\n",
      "{'mohan': '4', 'reddy': '6', 'pandey': '3'}\n",
      "<class 'dict'>\n"
     ]
    }
   ],
   "source": [
    "def add(**a):\n",
    "  print(a)\n",
    "  print(type(a))\n",
    "\n",
    "add()\n",
    "add(mohan=\"4\", reddy=\"6\")\n",
    "add(mohan=\"4\", reddy=\"6\", pandey=\"3\")"
   ]
  },
  {
   "cell_type": "markdown",
   "metadata": {
    "colab_type": "text",
    "id": "h97nVxXJRgRY"
   },
   "source": [
    "##Keyword Argument"
   ]
  },
  {
   "cell_type": "code",
   "execution_count": 13,
   "metadata": {
    "colab": {
     "base_uri": "https://localhost:8080/",
     "height": 67
    },
    "colab_type": "code",
    "executionInfo": {
     "elapsed": 1039,
     "status": "ok",
     "timestamp": 1584579393260,
     "user": {
      "displayName": "Md Meraz",
      "photoUrl": "https://lh3.googleusercontent.com/a-/AOh14GiCDqeiThy6Uz7npH4ERYGnqSgnpBR6l78yLv1B=s64",
      "userId": "16501587712343191977"
     },
     "user_tz": 420
    },
    "id": "bQgZcrAVRpjN",
    "outputId": "dc7cb54c-5982-422f-e3d8-24898ed9005b"
   },
   "outputs": [
    {
     "name": "stdout",
     "output_type": "stream",
     "text": [
      "meraz hi\n",
      "hi ram\n",
      "ram hi\n"
     ]
    }
   ],
   "source": [
    "def fun(name, msg):\n",
    "  print(name, msg)\n",
    "\n",
    "fun(\"meraz\", \"hi\")\n",
    "fun(\"hi\", \"ram\")\n",
    "\n",
    "fun(msg=\"hi\", name=\"ram\")"
   ]
  },
  {
   "cell_type": "markdown",
   "metadata": {
    "colab_type": "text",
    "id": "zWDUY1RyAjXy"
   },
   "source": [
    "##Lambda function"
   ]
  },
  {
   "cell_type": "code",
   "execution_count": 7,
   "metadata": {
    "colab": {
     "base_uri": "https://localhost:8080/",
     "height": 34
    },
    "colab_type": "code",
    "executionInfo": {
     "elapsed": 1262,
     "status": "ok",
     "timestamp": 1584574870588,
     "user": {
      "displayName": "Md Meraz",
      "photoUrl": "https://lh3.googleusercontent.com/a-/AOh14GiCDqeiThy6Uz7npH4ERYGnqSgnpBR6l78yLv1B=s64",
      "userId": "16501587712343191977"
     },
     "user_tz": 420
    },
    "id": "rKekxzDuA0_y",
    "outputId": "4500e011-6ef3-4d23-dbb2-0a171e9692a0"
   },
   "outputs": [
    {
     "name": "stdout",
     "output_type": "stream",
     "text": [
      "30\n"
     ]
    }
   ],
   "source": [
    "fun = lambda x: 10*x\n",
    "res = fun(3)\n",
    "print(res)\n"
   ]
  },
  {
   "cell_type": "code",
   "execution_count": 2,
   "metadata": {
    "colab": {
     "base_uri": "https://localhost:8080/",
     "height": 34
    },
    "colab_type": "code",
    "executionInfo": {
     "elapsed": 1589,
     "status": "ok",
     "timestamp": 1584574082747,
     "user": {
      "displayName": "Md Meraz",
      "photoUrl": "https://lh3.googleusercontent.com/a-/AOh14GiCDqeiThy6Uz7npH4ERYGnqSgnpBR6l78yLv1B=s64",
      "userId": "16501587712343191977"
     },
     "user_tz": 420
    },
    "id": "v5PBeGqv_CgW",
    "outputId": "0fd371d8-57e1-4c41-a2a8-6c0f97496691"
   },
   "outputs": [
    {
     "name": "stdout",
     "output_type": "stream",
     "text": [
      "1000\n"
     ]
    }
   ],
   "source": [
    "def cube(a, sq):\n",
    "  t = sq(a)\n",
    "  return a*t\n",
    "\n",
    "def square(b):\n",
    "  return b*b\n",
    "\n",
    "\n",
    "res = cube(10, square)   \n",
    "print(res)\n"
   ]
  },
  {
   "cell_type": "code",
   "execution_count": 6,
   "metadata": {
    "colab": {
     "base_uri": "https://localhost:8080/",
     "height": 34
    },
    "colab_type": "code",
    "executionInfo": {
     "elapsed": 1400,
     "status": "ok",
     "timestamp": 1584574541089,
     "user": {
      "displayName": "Md Meraz",
      "photoUrl": "https://lh3.googleusercontent.com/a-/AOh14GiCDqeiThy6Uz7npH4ERYGnqSgnpBR6l78yLv1B=s64",
      "userId": "16501587712343191977"
     },
     "user_tz": 420
    },
    "id": "IOCwF8oo-JUK",
    "outputId": "3ad1852d-a1f0-4ee0-827c-6e14f37b0bba"
   },
   "outputs": [
    {
     "name": "stdout",
     "output_type": "stream",
     "text": [
      "1000\n"
     ]
    }
   ],
   "source": [
    "def cube(a, sq):\n",
    "  t = sq(a)\n",
    "  return a*t\n",
    "\n",
    "res = cube(10, lambda x:x*x)\n",
    "print(res)"
   ]
  },
  {
   "cell_type": "markdown",
   "metadata": {
    "colab_type": "text",
    "id": "YEPVjOaWS-XY"
   },
   "source": [
    "##Global / Local Variabel Scope"
   ]
  },
  {
   "cell_type": "code",
   "execution_count": 16,
   "metadata": {
    "colab": {
     "base_uri": "https://localhost:8080/",
     "height": 34
    },
    "colab_type": "code",
    "executionInfo": {
     "elapsed": 1213,
     "status": "ok",
     "timestamp": 1584580168576,
     "user": {
      "displayName": "Md Meraz",
      "photoUrl": "https://lh3.googleusercontent.com/a-/AOh14GiCDqeiThy6Uz7npH4ERYGnqSgnpBR6l78yLv1B=s64",
      "userId": "16501587712343191977"
     },
     "user_tz": 420
    },
    "id": "wUzbSLwA_p6s",
    "outputId": "c6b9663a-8176-4a32-adeb-d5baf65948f8"
   },
   "outputs": [
    {
     "name": "stdout",
     "output_type": "stream",
     "text": [
      "9\n"
     ]
    }
   ],
   "source": [
    "a = 2\n",
    "b = 3\n",
    "\n",
    "def fun():\n",
    "  c = 4\n",
    "  d = a + b + c\n",
    "  print(d)\n",
    "\n",
    "fun()"
   ]
  },
  {
   "cell_type": "code",
   "execution_count": 17,
   "metadata": {
    "colab": {
     "base_uri": "https://localhost:8080/",
     "height": 212
    },
    "colab_type": "code",
    "executionInfo": {
     "elapsed": 670,
     "status": "error",
     "timestamp": 1584580170242,
     "user": {
      "displayName": "Md Meraz",
      "photoUrl": "https://lh3.googleusercontent.com/a-/AOh14GiCDqeiThy6Uz7npH4ERYGnqSgnpBR6l78yLv1B=s64",
      "userId": "16501587712343191977"
     },
     "user_tz": 420
    },
    "id": "4jn5OkouVKEP",
    "outputId": "f2bf147f-6683-4afc-d8a4-d3f9e93f45d4"
   },
   "outputs": [
    {
     "ename": "NameError",
     "evalue": "ignored",
     "output_type": "error",
     "traceback": [
      "\u001b[0;31m---------------------------------------------------------------------------\u001b[0m",
      "\u001b[0;31mNameError\u001b[0m                                 Traceback (most recent call last)",
      "\u001b[0;32m<ipython-input-17-5ec30f280ed7>\u001b[0m in \u001b[0;36m<module>\u001b[0;34m()\u001b[0m\n\u001b[1;32m      5\u001b[0m   \u001b[0mc\u001b[0m \u001b[0;34m=\u001b[0m \u001b[0;36m4\u001b[0m\u001b[0;34m\u001b[0m\u001b[0;34m\u001b[0m\u001b[0m\n\u001b[1;32m      6\u001b[0m \u001b[0;34m\u001b[0m\u001b[0m\n\u001b[0;32m----> 7\u001b[0;31m \u001b[0md\u001b[0m \u001b[0;34m=\u001b[0m \u001b[0ma\u001b[0m \u001b[0;34m+\u001b[0m \u001b[0mb\u001b[0m \u001b[0;34m+\u001b[0m \u001b[0mc\u001b[0m\u001b[0;34m\u001b[0m\u001b[0;34m\u001b[0m\u001b[0m\n\u001b[0m\u001b[1;32m      8\u001b[0m \u001b[0mprint\u001b[0m\u001b[0;34m(\u001b[0m\u001b[0md\u001b[0m\u001b[0;34m)\u001b[0m\u001b[0;34m\u001b[0m\u001b[0;34m\u001b[0m\u001b[0m\n",
      "\u001b[0;31mNameError\u001b[0m: name 'c' is not defined"
     ]
    }
   ],
   "source": [
    "a = 2\n",
    "b = 3\n",
    "\n",
    "def fun():\n",
    "  c = 4\n",
    "  \n",
    "d = a + b + c\n",
    "print(d)\n"
   ]
  },
  {
   "cell_type": "markdown",
   "metadata": {
    "colab_type": "text",
    "id": "3zrpFikbVqHX"
   },
   "source": [
    "## Nested Function"
   ]
  },
  {
   "cell_type": "code",
   "execution_count": 18,
   "metadata": {
    "colab": {
     "base_uri": "https://localhost:8080/",
     "height": 34
    },
    "colab_type": "code",
    "executionInfo": {
     "elapsed": 2376,
     "status": "ok",
     "timestamp": 1584580432646,
     "user": {
      "displayName": "Md Meraz",
      "photoUrl": "https://lh3.googleusercontent.com/a-/AOh14GiCDqeiThy6Uz7npH4ERYGnqSgnpBR6l78yLv1B=s64",
      "userId": "16501587712343191977"
     },
     "user_tz": 420
    },
    "id": "grGPE9XOVZN-",
    "outputId": "6856ce85-5056-497c-90a2-9eb1319a21df"
   },
   "outputs": [
    {
     "name": "stdout",
     "output_type": "stream",
     "text": [
      "Outer function run\n"
     ]
    }
   ],
   "source": [
    "def outer():\n",
    "  print(\"Outer function run\")\n",
    "  def inner():\n",
    "    print(\"inner function run\")\n",
    "\n",
    "outer()"
   ]
  },
  {
   "cell_type": "markdown",
   "metadata": {
    "colab_type": "text",
    "id": "7GeGkrITWw4W"
   },
   "source": [
    "# Functon documentation"
   ]
  },
  {
   "cell_type": "code",
   "execution_count": null,
   "metadata": {
    "colab": {},
    "colab_type": "code",
    "id": "l6D_gmFeWoAu"
   },
   "outputs": [],
   "source": [
    "def add(a, b):\n",
    "  \"\"\"add Function take two int value and add\n",
    "  return type >> Int \"\"\"\n",
    "  c = a + b\n",
    "  print(c)"
   ]
  },
  {
   "cell_type": "code",
   "execution_count": 20,
   "metadata": {
    "colab": {
     "base_uri": "https://localhost:8080/",
     "height": 34
    },
    "colab_type": "code",
    "executionInfo": {
     "elapsed": 1026,
     "status": "ok",
     "timestamp": 1584580699919,
     "user": {
      "displayName": "Md Meraz",
      "photoUrl": "https://lh3.googleusercontent.com/a-/AOh14GiCDqeiThy6Uz7npH4ERYGnqSgnpBR6l78yLv1B=s64",
      "userId": "16501587712343191977"
     },
     "user_tz": 420
    },
    "id": "SthAcuFqXjA-",
    "outputId": "6154d3a5-e40a-4e30-e45d-ced5c012b4b6"
   },
   "outputs": [
    {
     "name": "stdout",
     "output_type": "stream",
     "text": [
      "7\n"
     ]
    }
   ],
   "source": [
    "add(2,5)"
   ]
  },
  {
   "cell_type": "code",
   "execution_count": 1,
   "metadata": {
    "colab": {},
    "colab_type": "code",
    "id": "e93O8THQXqLW"
   },
   "outputs": [
    {
     "name": "stdout",
     "output_type": "stream",
     "text": [
      "{'kwargs': {'x': 2, 'y': 3, 'z': 4}}\n"
     ]
    }
   ],
   "source": [
    "def myfun(b, **a):\n",
    "    print(a)\n",
    "    \n",
    "# myfun(x: 2, y: 3, z: 4)\n",
    "# myfun(5, kwargs={'x': 2, 'y': 3, 'z': 4}) # True\n",
    "# myfun(5, b={'x': 2, 'y': 3, 'z': 4}) # False\n",
    "myfun(5, kwargs={'x': 2, 'y': 3, 'z': 4}) # False"
   ]
  },
  {
   "cell_type": "code",
   "execution_count": null,
   "metadata": {},
   "outputs": [],
   "source": []
  }
 ],
 "metadata": {
  "colab": {
   "authorship_tag": "ABX9TyM/yLVaSd1KrD8YrUsCzHgz",
   "name": "mod_04_01.ipynb",
   "provenance": []
  },
  "kernelspec": {
   "display_name": "Python 3 (ipykernel)",
   "language": "python",
   "name": "python3"
  },
  "language_info": {
   "codemirror_mode": {
    "name": "ipython",
    "version": 3
   },
   "file_extension": ".py",
   "mimetype": "text/x-python",
   "name": "python",
   "nbconvert_exporter": "python",
   "pygments_lexer": "ipython3",
   "version": "3.9.15"
  }
 },
 "nbformat": 4,
 "nbformat_minor": 4
}
