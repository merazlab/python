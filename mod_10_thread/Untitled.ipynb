{
 "cells": [
  {
   "cell_type": "markdown",
   "id": "779115ea-e870-433e-9476-2bdb7049aeb0",
   "metadata": {},
   "source": [
    "## Python threading"
   ]
  },
  {
   "cell_type": "code",
   "execution_count": 1,
   "id": "9c1836ba-c523-4bfb-94ee-b822006fc382",
   "metadata": {},
   "outputs": [],
   "source": [
    "from threading import Thread\n",
    "import time"
   ]
  },
  {
   "cell_type": "code",
   "execution_count": 2,
   "id": "a613e04a-cce7-4ace-951c-32006fb0a4e7",
   "metadata": {},
   "outputs": [
    {
     "name": "stdout",
     "output_type": "stream",
     "text": [
      "<_MainThread(MainThread, started 8180759168)>\n",
      "MainThread\n",
      "8180759168\n",
      "<bound method Thread.is_alive of <_MainThread(MainThread, started 8180759168)>>\n",
      "8180759168\n"
     ]
    }
   ],
   "source": [
    "import threading\n",
    "print(threading.current_thread())\n",
    "print(threading.current_thread().name)\n",
    "print(threading.current_thread().ident)\n",
    "print(threading.current_thread().is_alive)\n",
    "print(threading.current_thread().ident)"
   ]
  },
  {
   "cell_type": "code",
   "execution_count": null,
   "id": "9b75daaa-462e-423b-9ce7-52143034a326",
   "metadata": {},
   "outputs": [],
   "source": []
  },
  {
   "cell_type": "code",
   "execution_count": null,
   "id": "d6792b5a-0bd6-446e-8bdd-aa60747e72e6",
   "metadata": {},
   "outputs": [],
   "source": []
  },
  {
   "cell_type": "code",
   "execution_count": 3,
   "id": "5fedde88-16de-489b-956b-ee1f0a8d8a9a",
   "metadata": {},
   "outputs": [
    {
     "name": "stdout",
     "output_type": "stream",
     "text": [
      "State:  0\n",
      "State:  1\n",
      "State:  2\n",
      "State:  3\n",
      "State:  4\n",
      "State:  5\n",
      "State:  6\n",
      "State:  7\n",
      "State:  8\n",
      "State:  9\n"
     ]
    }
   ],
   "source": [
    "def func():\n",
    "    for item in range(10):\n",
    "        time.sleep(1)\n",
    "        print(\"State: \",item)\n",
    "        \n",
    "p1 = Thread(target=func)\n",
    "p1.start()\n"
   ]
  },
  {
   "cell_type": "code",
   "execution_count": 4,
   "id": "1897f887-c591-4362-8c84-3f300796f89d",
   "metadata": {},
   "outputs": [
    {
     "name": "stdout",
     "output_type": "stream",
     "text": [
      "State:  0\n",
      "State:  1\n",
      "State:  2\n",
      "State:  3\n",
      "State:  4\n"
     ]
    }
   ],
   "source": [
    "def func(args):\n",
    "    for item in range(args):\n",
    "        time.sleep(1)\n",
    "        print(\"State: \",item)\n",
    "        \n",
    "p1 = Thread(target=func, args=(5,))\n",
    "p1.start()\n"
   ]
  },
  {
   "cell_type": "code",
   "execution_count": 5,
   "id": "7ee809f3-5e2f-4bfd-a731-558eb148da34",
   "metadata": {},
   "outputs": [
    {
     "name": "stdout",
     "output_type": "stream",
     "text": [
      "2\n"
     ]
    }
   ],
   "source": [
    "def func(a, b):\n",
    "    print(a)\n",
    "    # for item in range(args):\n",
    "    #     time.sleep(1)\n",
    "    #     print(\"State: \",item)\n",
    "        \n",
    "p1 = Thread(target=func, kwargs={'a': 2, 'b': 3})\n",
    "p1.start()"
   ]
  },
  {
   "cell_type": "code",
   "execution_count": 6,
   "id": "30bd8c76-d33f-4543-9833-7322b202c64a",
   "metadata": {},
   "outputs": [
    {
     "name": "stdout",
     "output_type": "stream",
     "text": [
      "2\n",
      "{'b': 3, 'c': 4}\n"
     ]
    }
   ],
   "source": [
    "def func(a, **b):\n",
    "    print(a)\n",
    "    print(b)\n",
    "    # for item in range(args):\n",
    "    #     time.sleep(1)\n",
    "    #     print(\"State: \",item)\n",
    "        \n",
    "p1 = Thread(target=func, kwargs={'a': 2, 'b': 3, 'c': 4})\n",
    "p1.start()"
   ]
  },
  {
   "cell_type": "markdown",
   "id": "72166ffd-0f94-4574-81da-dae508b3df0e",
   "metadata": {},
   "source": [
    "## Threads for class method"
   ]
  },
  {
   "cell_type": "code",
   "execution_count": 7,
   "id": "3d6ab84a-0699-4f1e-bb15-db550728e061",
   "metadata": {},
   "outputs": [
    {
     "name": "stdout",
     "output_type": "stream",
     "text": [
      "hello world\n",
      "hello world\n",
      "hello world\n",
      "hello world\n"
     ]
    }
   ],
   "source": [
    "class Example:\n",
    "    def display(self):\n",
    "        for i in range(4):\n",
    "            time.sleep(1)\n",
    "            print(\"hello world\")\n",
    "                  \n",
    "e1 = Example()\n",
    "t1 = Thread(target=e1.display)\n",
    "t1.start()"
   ]
  },
  {
   "cell_type": "code",
   "execution_count": 8,
   "id": "8dc53ec0-f948-47e8-a409-0af12dcd2249",
   "metadata": {},
   "outputs": [],
   "source": [
    "class Example:\n",
    "    def display(self, n):\n",
    "        for i in range(n):\n",
    "            time.sleep(1)\n",
    "            print(\"hello world\")\n",
    "                  \n",
    "e1 = Example()\n",
    "t1 = Thread(target=e1.display, args=(3,))\n",
    "t1.start()"
   ]
  },
  {
   "cell_type": "code",
   "execution_count": 9,
   "id": "1dcc0947-5c74-442d-b34d-891547a53731",
   "metadata": {},
   "outputs": [
    {
     "name": "stdout",
     "output_type": "stream",
     "text": [
      "hello world\n",
      "hello world\n",
      "hello world\n",
      "hello world\n",
      "hello world\n",
      "hello world\n"
     ]
    }
   ],
   "source": [
    "class Example:\n",
    "    def display(self, n):\n",
    "        for i in range(n):\n",
    "            time.sleep(1)\n",
    "            print(\"hello world\")\n",
    "                  \n",
    "e1 = Example()\n",
    "t1 = Thread(target=e1.display, kwargs={'n':3})\n",
    "t1.start()"
   ]
  },
  {
   "cell_type": "code",
   "execution_count": 12,
   "id": "290405ea-dfba-4e98-9a67-c8bf2b851e10",
   "metadata": {},
   "outputs": [
    {
     "name": "stdout",
     "output_type": "stream",
     "text": [
      "14950\n",
      "1\n",
      "2\n",
      "3\n",
      "4\n",
      "5\n",
      "6\n",
      "7\n",
      "8\n",
      "9\n",
      "10\n",
      "11\n",
      "12\n",
      "13\n",
      "14\n",
      "15\n",
      "16\n",
      "17\n",
      "18\n",
      "19\n",
      "20\n",
      "21\n",
      "22\n",
      "23\n",
      "24\n",
      "25\n",
      "26\n",
      "27\n",
      "28\n",
      "29\n",
      "30\n",
      "31\n",
      "32\n",
      "33\n",
      "34\n",
      "35\n",
      "36\n",
      "37\n",
      "38\n",
      "39\n",
      "40\n",
      "41\n",
      "42\n",
      "43\n",
      "44\n",
      "45\n",
      "46\n",
      "47\n",
      "48\n",
      "49\n",
      "50\n",
      "51\n",
      "52\n",
      "53\n",
      "54\n",
      "55\n",
      "56\n",
      "57\n",
      "58\n",
      "59\n",
      "60\n",
      "61\n",
      "62\n",
      "63\n",
      "64\n",
      "65\n",
      "66\n",
      "67\n",
      "68\n",
      "69\n",
      "70\n",
      "71\n",
      "72\n",
      "73\n",
      "74\n",
      "75\n",
      "76\n",
      "77\n",
      "78\n",
      "79\n",
      "80\n",
      "81\n",
      "82\n",
      "83\n",
      "84\n",
      "85\n",
      "86\n",
      "87\n",
      "88\n",
      "89\n",
      "90\n",
      "91\n",
      "92\n",
      "93\n",
      "94\n",
      "95\n",
      "96\n",
      "97\n",
      "98\n",
      "99\n"
     ]
    }
   ],
   "source": [
    "class X(threading.Thread):\n",
    "    def run(self):\n",
    "        self.sum = 0\n",
    "        for p in range(100, 200):\n",
    "            self.sum += p\n",
    "        print(self.sum)\n",
    "        \n",
    "class Y(threading.Thread):\n",
    "    def run(self):\n",
    "        for p in range(1, 100):\n",
    "            print(p)\n",
    "            \n",
    "x1 = X()\n",
    "x1.start()\n",
    "y1 = Y()\n",
    "y1.start()  "
   ]
  },
  {
   "cell_type": "code",
   "execution_count": 21,
   "id": "43716e97-0de4-4f74-8d6c-0d5c963b0025",
   "metadata": {},
   "outputs": [
    {
     "name": "stdout",
     "output_type": "stream",
     "text": [
      "0\n",
      "2\n",
      "4\n",
      "6\n",
      "8\n",
      "10\n",
      "12\n",
      "14\n",
      "16\n",
      "18\n",
      "20\n",
      "22\n",
      "24\n",
      "26\n",
      "28\n",
      "30\n",
      "32\n",
      "34\n",
      "36\n",
      "38\n",
      "40\n",
      "42\n",
      "44\n",
      "46\n",
      "48\n",
      "50\n",
      "1\n",
      "52\n",
      "54\n",
      "56\n",
      "58\n",
      "60\n",
      "62\n",
      "64\n",
      "66\n",
      "68\n",
      "70\n",
      "72\n",
      "74\n",
      "76\n",
      "78\n",
      "80\n",
      "82\n",
      "84\n",
      "86\n",
      "88\n",
      "90\n",
      "92\n",
      "94\n",
      "96\n",
      "98\n"
     ]
    }
   ],
   "source": [
    "class X(threading.Thread):\n",
    "    def run(self):\n",
    "        self.sum = 0\n",
    "        for p in range(1, 10):\n",
    "            self.sum += p\n",
    "            time.sleep(1)\n",
    "        \n",
    "        \n",
    "class Y(threading.Thread):\n",
    "    \n",
    "    def __init__(self, x1):\n",
    "        super().__init__()\n",
    "        self.x1 = x1\n",
    "        \n",
    "    def run(self):\n",
    "        for p in range(0, 100, 2):\n",
    "            print(p)\n",
    "            if p == 50:\n",
    "                print(self.x1.sum)\n",
    "                    \n",
    "x1 = X()\n",
    "x1.start()\n",
    "y1 = Y(x1)\n",
    "y1.start()  "
   ]
  },
  {
   "cell_type": "code",
   "execution_count": 23,
   "id": "b106e370-fc18-4535-a504-a036f9aa95b4",
   "metadata": {},
   "outputs": [
    {
     "name": "stdout",
     "output_type": "stream",
     "text": [
      "0\n",
      "2\n",
      "4\n",
      "6\n",
      "8\n",
      "10\n",
      "12\n",
      "14\n",
      "16\n",
      "18\n",
      "20\n",
      "22\n",
      "24\n",
      "26\n",
      "28\n",
      "30\n",
      "32\n",
      "34\n",
      "36\n",
      "38\n",
      "40\n",
      "42\n",
      "44\n",
      "46\n",
      "48\n",
      "50\n",
      "190\n",
      "52\n",
      "54\n",
      "56\n",
      "58\n",
      "60\n",
      "62\n",
      "64\n",
      "66\n",
      "68\n",
      "70\n",
      "72\n",
      "74\n",
      "76\n",
      "78\n",
      "80\n",
      "82\n",
      "84\n",
      "86\n",
      "88\n",
      "90\n",
      "92\n",
      "94\n",
      "96\n",
      "98\n"
     ]
    }
   ],
   "source": [
    "class X(threading.Thread):\n",
    "    def run(self):\n",
    "        self.sum = 0\n",
    "        for p in range(1, 20):\n",
    "            self.sum += p\n",
    "            time.sleep(1)\n",
    "        \n",
    "        \n",
    "class Y(threading.Thread):\n",
    "    \n",
    "    def __init__(self, x1):\n",
    "        super().__init__()\n",
    "        self.x1 = x1\n",
    "        \n",
    "    def run(self):\n",
    "        for p in range(0, 100, 2):\n",
    "            print(p)\n",
    "            if p == 50:\n",
    "                self.x1.join()\n",
    "                print(self.x1.sum)\n",
    "                    \n",
    "x1 = X()\n",
    "x1.start()\n",
    "y1 = Y(x1)\n",
    "y1.start()  "
   ]
  },
  {
   "cell_type": "markdown",
   "id": "208ef90d-613a-48fd-9f4e-59cbb5453a8a",
   "metadata": {},
   "source": [
    "## Synchronization"
   ]
  },
  {
   "cell_type": "code",
   "execution_count": 25,
   "id": "150765fa-cade-4305-a9a5-3898601182d4",
   "metadata": {},
   "outputs": [],
   "source": [
    "# IF Multiple thread at a time access same logic"
   ]
  },
  {
   "cell_type": "code",
   "execution_count": 37,
   "id": "de2ad77d-6a4b-40af-863e-a7b6fb1bb91e",
   "metadata": {},
   "outputs": [
    {
     "name": "stdout",
     "output_type": "stream",
     "text": [
      "Hello Meraz\n",
      "Hi.    Meraz\n"
     ]
    }
   ],
   "source": [
    "class X(threading.Thread):\n",
    "    def run(self):\n",
    "        lc.acquire()\n",
    "        func(\"Hello\")\n",
    "        lc.release()\n",
    "        \n",
    "class Y(threading.Thread):\n",
    "    def run(self):\n",
    "        lc.acquire()\n",
    "        func(\"Hi.   \")\n",
    "        lc.release()\n",
    "        \n",
    "def func(msg):\n",
    "    print(msg, \"Meraz\")\n",
    "    time.sleep(10)\n",
    "    \n",
    "lc = threading.Lock()    \n",
    "x1 = X()\n",
    "y1 = Y()\n",
    "x1.start()\n",
    "y1.start()"
   ]
  },
  {
   "cell_type": "code",
   "execution_count": null,
   "id": "1664aa98-cc8e-41f4-a66e-1b4773de3564",
   "metadata": {},
   "outputs": [],
   "source": []
  }
 ],
 "metadata": {
  "kernelspec": {
   "display_name": "Python 3 (ipykernel)",
   "language": "python",
   "name": "python3"
  },
  "language_info": {
   "codemirror_mode": {
    "name": "ipython",
    "version": 3
   },
   "file_extension": ".py",
   "mimetype": "text/x-python",
   "name": "python",
   "nbconvert_exporter": "python",
   "pygments_lexer": "ipython3",
   "version": "3.9.15"
  }
 },
 "nbformat": 4,
 "nbformat_minor": 5
}
