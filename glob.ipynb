{
  "nbformat": 4,
  "nbformat_minor": 0,
  "metadata": {
    "colab": {
      "name": "glob.ipynb",
      "provenance": [],
      "authorship_tag": "ABX9TyNP4JircIyLRgk30zhMVAhw",
      "include_colab_link": true
    },
    "kernelspec": {
      "name": "python3",
      "display_name": "Python 3"
    }
  },
  "cells": [
    {
      "cell_type": "markdown",
      "metadata": {
        "id": "view-in-github",
        "colab_type": "text"
      },
      "source": [
        "<a href=\"https://colab.research.google.com/github/merazlab/python/blob/master/glob.ipynb\" target=\"_parent\"><img src=\"https://colab.research.google.com/assets/colab-badge.svg\" alt=\"Open In Colab\"/></a>"
      ]
    },
    {
      "cell_type": "markdown",
      "metadata": {
        "id": "54ow1XYyEIqT",
        "colab_type": "text"
      },
      "source": [
        "Glob- Python inbuilt library\n",
        "\n",
        "use for matching files or folder"
      ]
    },
    {
      "cell_type": "code",
      "metadata": {
        "id": "jteJA2kkD_2O",
        "colab_type": "code",
        "outputId": "3ce65de4-f9ce-432c-84dc-3daf23c4d431",
        "colab": {
          "base_uri": "https://localhost:8080/",
          "height": 34
        }
      },
      "source": [
        "!pwd"
      ],
      "execution_count": 0,
      "outputs": [
        {
          "output_type": "stream",
          "text": [
            "/content\n"
          ],
          "name": "stdout"
        }
      ]
    },
    {
      "cell_type": "code",
      "metadata": {
        "id": "8VImDDshEHlO",
        "colab_type": "code",
        "colab": {}
      },
      "source": [
        "!touch file1.txt"
      ],
      "execution_count": 0,
      "outputs": []
    },
    {
      "cell_type": "code",
      "metadata": {
        "id": "wrIPmiagEhA8",
        "colab_type": "code",
        "colab": {}
      },
      "source": [
        "!touch file2.txt"
      ],
      "execution_count": 0,
      "outputs": []
    },
    {
      "cell_type": "code",
      "metadata": {
        "id": "lqoykmdsEkBO",
        "colab_type": "code",
        "colab": {}
      },
      "source": [
        "!touch file3.txt"
      ],
      "execution_count": 0,
      "outputs": []
    },
    {
      "cell_type": "code",
      "metadata": {
        "id": "7rS7dSHCEmSf",
        "colab_type": "code",
        "outputId": "73b58009-6416-4e85-8916-7f81a77d7c14",
        "colab": {
          "base_uri": "https://localhost:8080/",
          "height": 34
        }
      },
      "source": [
        "import os\n",
        "print(os.listdir())"
      ],
      "execution_count": 0,
      "outputs": [
        {
          "output_type": "stream",
          "text": [
            "['.config', 'file2.txt', 'file3.txt', 'file1.txt', 'sample_data']\n"
          ],
          "name": "stdout"
        }
      ]
    },
    {
      "cell_type": "code",
      "metadata": {
        "id": "WrXf4GV6Eutu",
        "colab_type": "code",
        "colab": {}
      },
      "source": [
        "paths = os.listdir()\n",
        "tpath = []\n",
        "\n",
        "for path in paths:\n",
        "  if path.endswith(\".txt\"):\n",
        "    tpath.append(path)"
      ],
      "execution_count": 0,
      "outputs": []
    },
    {
      "cell_type": "code",
      "metadata": {
        "id": "s0O2bqdKFxfZ",
        "colab_type": "code",
        "outputId": "5e8e5126-595c-41d2-feac-8f2c1d09fc06",
        "colab": {
          "base_uri": "https://localhost:8080/",
          "height": 34
        }
      },
      "source": [
        "print(tpath)"
      ],
      "execution_count": 0,
      "outputs": [
        {
          "output_type": "stream",
          "text": [
            "['file2.txt', 'file3.txt', 'file1.txt']\n"
          ],
          "name": "stdout"
        }
      ]
    },
    {
      "cell_type": "markdown",
      "metadata": {
        "id": "GeAwq7BfGEdU",
        "colab_type": "text"
      },
      "source": [
        "Now using glob method"
      ]
    },
    {
      "cell_type": "code",
      "metadata": {
        "id": "x98TgXZuJRQG",
        "colab_type": "code",
        "colab": {}
      },
      "source": [
        "import glob"
      ],
      "execution_count": 0,
      "outputs": []
    },
    {
      "cell_type": "code",
      "metadata": {
        "id": "8i0kBYvnJS-b",
        "colab_type": "code",
        "outputId": "9e5792c1-7bb4-4ba9-8582-3d94b257b9e8",
        "colab": {
          "base_uri": "https://localhost:8080/",
          "height": 34
        }
      },
      "source": [
        "glob.glob(\"*\")"
      ],
      "execution_count": 0,
      "outputs": [
        {
          "output_type": "execute_result",
          "data": {
            "text/plain": [
              "['file2.txt', 'file3.txt', 'file1.txt', 'sample_data']"
            ]
          },
          "metadata": {
            "tags": []
          },
          "execution_count": 11
        }
      ]
    },
    {
      "cell_type": "code",
      "metadata": {
        "id": "0x_7HST_JYx_",
        "colab_type": "code",
        "outputId": "b6eee60a-5023-4da6-8cab-362a7bc52284",
        "colab": {
          "base_uri": "https://localhost:8080/",
          "height": 34
        }
      },
      "source": [
        "glob.glob(\"*.txt\")"
      ],
      "execution_count": 0,
      "outputs": [
        {
          "output_type": "execute_result",
          "data": {
            "text/plain": [
              "['file2.txt', 'file3.txt', 'file1.txt']"
            ]
          },
          "metadata": {
            "tags": []
          },
          "execution_count": 12
        }
      ]
    },
    {
      "cell_type": "code",
      "metadata": {
        "id": "7JlPM3u7Jgpj",
        "colab_type": "code",
        "colab": {}
      },
      "source": [
        ""
      ],
      "execution_count": 0,
      "outputs": []
    }
  ]
}